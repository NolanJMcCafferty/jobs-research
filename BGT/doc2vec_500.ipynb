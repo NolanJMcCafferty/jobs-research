{
 "cells": [
  {
   "cell_type": "code",
   "execution_count": 4,
   "metadata": {},
   "outputs": [
    {
     "data": {
      "text/plain": [
       "131072"
      ]
     },
     "execution_count": 4,
     "metadata": {},
     "output_type": "execute_result"
    }
   ],
   "source": [
    "import string;\n",
    "from gensim.models import doc2vec\n",
    "import numpy as np\n",
    "import nltk\n",
    "\n",
    "# We import sklearn.\n",
    "import sklearn\n",
    "from sklearn.manifold import TSNE\n",
    "\n",
    "# Random state.\n",
    "RS = 30145621\n",
    "\n",
    "# We'll use matplotlib for graphics.\n",
    "import matplotlib.pyplot as plt\n",
    "import matplotlib.patheffects as PathEffects\n",
    "import matplotlib\n",
    "%matplotlib inline\n",
    "import csv\n",
    "import random\n",
    "\n",
    "import warnings\n",
    "warnings.filterwarnings('ignore')\n",
    "\n",
    "import sys\n",
    "import gc\n",
    "import pandas as pd\n",
    "import pickle\n",
    "\n",
    "csv.field_size_limit(sys.maxsize)"
   ]
  },
  {
   "cell_type": "code",
   "execution_count": 5,
   "metadata": {},
   "outputs": [],
   "source": [
    "from datetime import timedelta, date\n",
    "\n",
    "years = [7,10,11,12,13,14,15,16]\n",
    "\n",
    "\n",
    "def daterange(date1, date2):\n",
    "    for n in range(int ((date2 - date1).days)+1):\n",
    "        yield date1 + timedelta(n)\n",
    "\n",
    "\n",
    "dates = {}        \n",
    "for year in years:\n",
    "    days = []\n",
    "    year = year + 2000\n",
    "    start = date(year, 1, 1)\n",
    "    end = date(year, 12, 31)\n",
    "    for dt in daterange(start, end):\n",
    "        days.append(dt.strftime(\"%m-%d-%Y\"))\n",
    "    dates[year] = days"
   ]
  },
  {
   "cell_type": "code",
   "execution_count": 3,
   "metadata": {},
   "outputs": [],
   "source": [
    "import pickle\n",
    "\n",
    "docfile = open('documents.pkl', 'rb')\n",
    "tokens = pickle.load(docfile)\n",
    "\n",
    "idfile = open('bgt_500.pkl', 'rb')\n",
    "job_IDs = pickle.load(idfile)"
   ]
  },
  {
   "cell_type": "code",
   "execution_count": 4,
   "metadata": {},
   "outputs": [],
   "source": [
    "def create_tagged_objects(tokens):\n",
    "    \"\"\"Convers tokens to genism tagged documents\"\"\"\n",
    "    tagged_docs = []\n",
    "    for i in range(len(tokens) - 1):\n",
    "        tagged_doc = doc2vec.TaggedDocument(words=tokens[i], tags=[i])\n",
    "        tagged_docs.append(tagged_doc)\n",
    "    return tagged_docs\n",
    "\n",
    "\n",
    "tagged_docs = create_tagged_objects(tokens)    "
   ]
  },
  {
   "cell_type": "code",
   "execution_count": 5,
   "metadata": {},
   "outputs": [
    {
     "name": "stdout",
     "output_type": "stream",
     "text": [
      "Building vocab\n",
      "Vocab length: 168764\n",
      "Training epoch 0\n",
      "Training epoch 1\n",
      "Training epoch 2\n",
      "Training epoch 3\n",
      "Training epoch 4\n",
      "Training epoch 5\n",
      "Training epoch 6\n",
      "Training epoch 7\n",
      "Training epoch 8\n",
      "Training epoch 9\n",
      "Training epoch 10\n",
      "Training epoch 11\n",
      "Training epoch 12\n",
      "Training epoch 13\n",
      "Training epoch 14\n",
      "Training epoch 15\n",
      "Training epoch 16\n",
      "Training epoch 17\n",
      "Training epoch 18\n",
      "Training epoch 19\n"
     ]
    }
   ],
   "source": [
    "model = doc2vec.Doc2Vec(alpha=0.05, min_alpha=0.05, vector_size=100, window=8, min_count=5, workers=4)\n",
    "\n",
    "\n",
    "print('Building vocab')\n",
    "model.build_vocab(tagged_docs)\n",
    "print('Vocab length: ' + str(len(model.wv.vocab)))\n",
    "\n",
    "len(model.docvecs)\n",
    "epochs = 20\n",
    "factor = 0.9\n",
    "for epoch in range(epochs):\n",
    "    # train epoch by epoch\n",
    "    print('Training epoch %d' % epoch)\n",
    "    random.shuffle(tagged_docs)\n",
    "    model.train(tagged_docs, total_examples=model.corpus_count, epochs=model.epochs)\n",
    "    model.alpha *= factor  # decrease the learning rate\n",
    "    model.min_alpha = model.alpha  # fix the learning rate, no decay"
   ]
  },
  {
   "cell_type": "code",
   "execution_count": 7,
   "metadata": {},
   "outputs": [],
   "source": [
    "model.save('model_500')"
   ]
  },
  {
   "cell_type": "code",
   "execution_count": 6,
   "metadata": {},
   "outputs": [],
   "source": [
    "model = doc2vec.Doc2Vec.load('model_500')"
   ]
  },
  {
   "cell_type": "code",
   "execution_count": 8,
   "metadata": {},
   "outputs": [
    {
     "data": {
      "text/plain": [
       "[('perl', 0.8188003897666931),\n",
       " ('scala', 0.7101612687110901),\n",
       " ('mysql', 0.6844235062599182),\n",
       " ('java', 0.6597845554351807),\n",
       " ('matlab', 0.6268130540847778),\n",
       " ('fortran', 0.6162153482437134),\n",
       " ('vbscript', 0.6119515895843506),\n",
       " ('rubi', 0.5884727835655212),\n",
       " ('angularj', 0.5854419469833374),\n",
       " ('javascript', 0.5740393400192261)]"
      ]
     },
     "execution_count": 8,
     "metadata": {},
     "output_type": "execute_result"
    }
   ],
   "source": [
    "model.wv.most_similar('python')"
   ]
  },
  {
   "cell_type": "code",
   "execution_count": 9,
   "metadata": {},
   "outputs": [
    {
     "data": {
      "text/plain": [
       "[('15001daq', 0.5243683457374573),\n",
       " ('firmwar', 0.5080764293670654),\n",
       " ('winfit', 0.5080638527870178),\n",
       " ('assetwis', 0.4921538233757019),\n",
       " ('cablescan', 0.47701284289360046),\n",
       " ('sofwar', 0.47694694995880127),\n",
       " ('smftware', 0.46843552589416504),\n",
       " ('java', 0.466549277305603),\n",
       " ('terqitori', 0.46324294805526733),\n",
       " ('iseri', 0.45917296409606934)]"
      ]
     },
     "execution_count": 9,
     "metadata": {},
     "output_type": "execute_result"
    }
   ],
   "source": [
    "model.wv.most_similar('softwar')"
   ]
  },
  {
   "cell_type": "code",
   "execution_count": 18,
   "metadata": {},
   "outputs": [
    {
     "data": {
      "text/plain": [
       "[('readback', 0.5105516314506531),\n",
       " ('ability_', 0.4897938370704651),\n",
       " ('partssafeti', 0.4727225601673126),\n",
       " ('systemfriendli', 0.47023242712020874),\n",
       " ('varazdin', 0.46668708324432373),\n",
       " ('friendly_', 0.4444960951805115),\n",
       " ('interiorhr', 0.4225849211215973),\n",
       " ('chaoyang', 0.421771764755249),\n",
       " ('taichung', 0.42097795009613037),\n",
       " ('timisoara', 0.4202026426792145)]"
      ]
     },
     "execution_count": 18,
     "metadata": {},
     "output_type": "execute_result"
    }
   ],
   "source": [
    "model.wv.most_similar('communication')"
   ]
  },
  {
   "cell_type": "code",
   "execution_count": 13,
   "metadata": {},
   "outputs": [
    {
     "data": {
      "text/plain": [
       "[('planningcoordin', 0.42966702580451965),\n",
       " ('yergeau', 0.40698906779289246),\n",
       " ('send', 0.4037514925003052),\n",
       " ('calul', 0.40098243951797485),\n",
       " ('huber', 0.39607077836990356),\n",
       " ('stenographi', 0.3959091305732727),\n",
       " ('emial', 0.39531877636909485),\n",
       " ('evin', 0.3887404799461365),\n",
       " ('alliancestaff', 0.38652896881103516),\n",
       " ('protim', 0.38541489839553833)]"
      ]
     },
     "execution_count": 13,
     "metadata": {},
     "output_type": "execute_result"
    }
   ],
   "source": [
    "model.wv.most_similar('medical')"
   ]
  },
  {
   "cell_type": "code",
   "execution_count": 19,
   "metadata": {},
   "outputs": [],
   "source": [
    "vectors = []\n",
    "for i in range(len(model.docvecs)-1):\n",
    "    vectors.append(model.docvecs[i])"
   ]
  },
  {
   "cell_type": "code",
   "execution_count": 20,
   "metadata": {},
   "outputs": [],
   "source": [
    "def scatter(x):\n",
    "    # We create a scatter plot.\n",
    "    f = plt.figure(figsize=(8, 8))\n",
    "    ax = plt.subplot(aspect='equal')\n",
    "    sc = ax.scatter(x[:,0], x[:,1], lw=0, s=40)\n",
    "    ax.axis('on')\n",
    "    ax.axis('tight')\n",
    "    plt.xlim(-100, 100)\n",
    "    plt.ylim(-100, 100)\n",
    "    return f, ax, sc"
   ]
  },
  {
   "cell_type": "code",
   "execution_count": null,
   "metadata": {
    "scrolled": false
   },
   "outputs": [],
   "source": [
    "# We create a scatter plot with perplexity = 50\n",
    "docs_proj_50 = TSNE(random_state=RS, perplexity=50).fit_transform(vectors)\n",
    "scatter(docs_proj_50)"
   ]
  },
  {
   "cell_type": "code",
   "execution_count": null,
   "metadata": {},
   "outputs": [],
   "source": [
    "# We create a scatter plot with perplexity = 30\n",
    "docs_proj_30 = TSNE(random_state=RS, perplexity=30).fit_transform(vectors)\n",
    "scatter(docs_proj_30)"
   ]
  },
  {
   "cell_type": "code",
   "execution_count": null,
   "metadata": {},
   "outputs": [],
   "source": [
    "# We create a scatter plot with perplexity = 5\n",
    "docs_proj_5 = TSNE(random_state=RS, perplexity=5).fit_transform(vectors)\n",
    "scatter(docs_proj_5)"
   ]
  },
  {
   "cell_type": "code",
   "execution_count": null,
   "metadata": {},
   "outputs": [],
   "source": []
  }
 ],
 "metadata": {
  "kernelspec": {
   "display_name": "Python 3",
   "language": "python",
   "name": "python3"
  },
  "language_info": {
   "codemirror_mode": {
    "name": "ipython",
    "version": 3
   },
   "file_extension": ".py",
   "mimetype": "text/x-python",
   "name": "python",
   "nbconvert_exporter": "python",
   "pygments_lexer": "ipython3",
   "version": "3.6.5"
  }
 },
 "nbformat": 4,
 "nbformat_minor": 2
}
