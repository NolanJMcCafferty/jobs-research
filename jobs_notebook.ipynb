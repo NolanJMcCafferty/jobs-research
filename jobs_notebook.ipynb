{
 "cells": [
  {
   "cell_type": "code",
   "execution_count": 1,
   "metadata": {},
   "outputs": [],
   "source": [
    "import string;\n",
    "from gensim.models import doc2vec\n",
    "import numpy as np\n",
    "import nltk\n",
    "\n",
    "# We import sklearn.\n",
    "import sklearn\n",
    "from sklearn.manifold import TSNE\n",
    "from sklearn.datasets import load_digits\n",
    "from sklearn.preprocessing import scale\n",
    "\n",
    "# Random state.\n",
    "RS = 30145621\n",
    "\n",
    "# We'll use matplotlib for graphics.\n",
    "import matplotlib.pyplot as plt\n",
    "import matplotlib.patheffects as PathEffects\n",
    "import matplotlib\n",
    "%matplotlib inline"
   ]
  },
  {
   "cell_type": "code",
   "execution_count": 473,
   "metadata": {},
   "outputs": [],
   "source": [
    "docs = []\n",
    "titles = []\n",
    "locations = []\n",
    "lines = ''\n",
    "title = ''\n",
    "location = ''"
   ]
  },
  {
   "cell_type": "code",
   "execution_count": 474,
   "metadata": {},
   "outputs": [],
   "source": [
    "with open('unique.txt', 'r') as rf:\n",
    "    for line in rf:\n",
    "        if location == '':\n",
    "            location = line[:-1]\n",
    "            locations.append(location)\n",
    "        if title == '':\n",
    "            title = line[:-1]\n",
    "            titles.append(title)\n",
    "            location = ''\n",
    "        if line == 'zzz\\n':\n",
    "            docs.append(lines)\n",
    "            lines = ''\n",
    "            title = ''\n",
    "            location = ''\n",
    "        else:\n",
    "            lines = lines+line "
   ]
  },
  {
   "cell_type": "code",
   "execution_count": 475,
   "metadata": {},
   "outputs": [
    {
     "name": "stdout",
     "output_type": "stream",
     "text": [
      "9915\n",
      "10439\n"
     ]
    }
   ],
   "source": [
    "d, indices, counts = np.unique(docs, return_index=True, return_counts=True)\n",
    "print(len(d))\n",
    "print(len(titles))"
   ]
  },
  {
   "cell_type": "code",
   "execution_count": 476,
   "metadata": {},
   "outputs": [],
   "source": [
    "\"\"\"write out unique jobs to new file\"\"\"\n",
    "with open('unique.txt', 'w') as wf:\n",
    "    for i in indices:\n",
    "        wf.write(docs[i])\n",
    "        wf.write('zzz\\n')"
   ]
  },
  {
   "cell_type": "code",
   "execution_count": 477,
   "metadata": {},
   "outputs": [],
   "source": [
    "def tokenize_jobs(documents):\n",
    "    \"\"\"converts job listings to genism tagged documents\"\"\"\n",
    "    tokens = {}\n",
    "    for i in range(0, len(documents)-1):\n",
    "        tokenized = [x.lower() for x in nltk.word_tokenize(documents[i], language='english')]\n",
    "        tokens[titles[i]] = tokenized \n",
    "    return tokens\n",
    "    \n",
    "\n",
    "tokens = tokenize_jobs(d)"
   ]
  },
  {
   "cell_type": "code",
   "execution_count": 478,
   "metadata": {},
   "outputs": [],
   "source": [
    "def create_tagged_objects(tokens):\n",
    "    \"\"\"Convers tokens to genism tagged documents\"\"\"\n",
    "    tagged_docs = {}\n",
    "    for num, title in enumerate(tokens):\n",
    "        tagged_doc = doc2vec.TaggedDocument(words=tokens[title], tags=[title])\n",
    "        tagged_docs[title]= tagged_doc\n",
    "    return tagged_docs\n",
    "\n",
    "\n",
    "tagged_docs_dict = create_tagged_objects(tokens)    "
   ]
  },
  {
   "cell_type": "code",
   "execution_count": 479,
   "metadata": {},
   "outputs": [
    {
     "name": "stdout",
     "output_type": "stream",
     "text": [
      "Building vocab\n",
      "Vocab length: 15911\n",
      "Training epoch 0\n",
      "Training epoch 1\n",
      "Training epoch 2\n",
      "Training epoch 3\n",
      "Training epoch 4\n",
      "Training epoch 5\n",
      "Training epoch 6\n",
      "Training epoch 7\n",
      "Training epoch 8\n",
      "Training epoch 9\n",
      "Training epoch 10\n",
      "Training epoch 11\n",
      "Training epoch 12\n",
      "Training epoch 13\n",
      "Training epoch 14\n",
      "Training epoch 15\n",
      "Training epoch 16\n",
      "Training epoch 17\n",
      "Training epoch 18\n",
      "Training epoch 19\n"
     ]
    }
   ],
   "source": [
    "import random\n",
    "\n",
    "tagged_docs = [tagged_docs_dict[key] for key in list(tagged_docs_dict.keys())]\n",
    "\n",
    "model = doc2vec.Doc2Vec(alpha=0.05, min_alpha=0.05, vector_size=100, window=8, min_count=5, workers=4)\n",
    "\n",
    "\n",
    "print('Building vocab')\n",
    "model.build_vocab(tagged_docs)\n",
    "print('Vocab length: ' + str(len(model.wv.vocab)))\n",
    "\n",
    "len(model.docvecs)\n",
    "epochs = 20\n",
    "factor = 0.8\n",
    "for epoch in range(epochs):\n",
    "    # train epoch by epoch\n",
    "    print('Training epoch %d' % epoch)\n",
    "    random.shuffle(tagged_docs)\n",
    "    model.train(tagged_docs, total_examples=model.corpus_count, epochs=model.epochs)\n",
    "    model.alpha *= factor  # decrease the learning rate\n",
    "    model.min_alpha = model.alpha  # fix the learning rate, no decay"
   ]
  },
  {
   "cell_type": "code",
   "execution_count": 480,
   "metadata": {},
   "outputs": [
    {
     "data": {
      "text/plain": [
       "[('powershell', 0.5184433460235596),\n",
       " ('javascript', 0.5023186802864075),\n",
       " ('stata', 0.46773117780685425),\n",
       " ('angular', 0.4615904688835144),\n",
       " ('c++', 0.4541410207748413),\n",
       " ('autocad', 0.4503403604030609),\n",
       " ('trim', 0.43185436725616455),\n",
       " ('xml', 0.42961668968200684),\n",
       " ('arcgis', 0.42694395780563354),\n",
       " ('vb', 0.4211209714412689)]"
      ]
     },
     "execution_count": 480,
     "metadata": {},
     "output_type": "execute_result"
    }
   ],
   "source": [
    "model.wv.most_similar('python')"
   ]
  },
  {
   "cell_type": "code",
   "execution_count": 481,
   "metadata": {},
   "outputs": [
    {
     "data": {
      "text/plain": [
       "[('pc', 0.45437324047088623),\n",
       " ('technologies', 0.4447222948074341),\n",
       " ('3-d', 0.4172952175140381),\n",
       " ('equipment', 0.4167215824127197),\n",
       " ('tools', 0.4080018401145935),\n",
       " ('computers', 0.4053024649620056),\n",
       " ('computer', 0.39837825298309326),\n",
       " ('windows-based', 0.39160245656967163),\n",
       " ('firmware', 0.3889652192592621),\n",
       " ('se', 0.38238364458084106)]"
      ]
     },
     "execution_count": 481,
     "metadata": {},
     "output_type": "execute_result"
    }
   ],
   "source": [
    "model.wv.most_similar('software')"
   ]
  },
  {
   "cell_type": "code",
   "execution_count": 482,
   "metadata": {},
   "outputs": [
    {
     "data": {
      "text/plain": [
       "[('anthropology', 0.49755173921585083),\n",
       " ('economics', 0.4877868890762329),\n",
       " ('science', 0.4750896692276001),\n",
       " ('linguistics', 0.4743393659591675),\n",
       " ('farsi', 0.46157047152519226),\n",
       " ('demography', 0.45504239201545715),\n",
       " ('mathematics', 0.4338679909706116),\n",
       " ('sociology', 0.41659125685691833),\n",
       " ('criminology', 0.38723695278167725),\n",
       " ('biology', 0.38574934005737305)]"
      ]
     },
     "execution_count": 482,
     "metadata": {},
     "output_type": "execute_result"
    }
   ],
   "source": [
    "model.wv.most_similar('journalism')"
   ]
  },
  {
   "cell_type": "code",
   "execution_count": 483,
   "metadata": {},
   "outputs": [
    {
     "data": {
      "text/plain": [
       "[('health', 0.45965301990509033),\n",
       " ('pediatric', 0.4590153396129608),\n",
       " ('chiropractic', 0.4479690492153168),\n",
       " ('nonesuch', 0.40508291125297546),\n",
       " ('surgery', 0.39205968379974365),\n",
       " ('autism', 0.3886915445327759),\n",
       " ('call', 0.3870578110218048),\n",
       " ('radiology', 0.37272909283638),\n",
       " ('healthcare', 0.3602098822593689),\n",
       " ('ecw', 0.35786837339401245)]"
      ]
     },
     "execution_count": 483,
     "metadata": {},
     "output_type": "execute_result"
    }
   ],
   "source": [
    "model.wv.most_similar('medical')"
   ]
  },
  {
   "cell_type": "code",
   "execution_count": 484,
   "metadata": {},
   "outputs": [],
   "source": [
    "vectors = []\n",
    "for i in range(len(model.docvecs)-1):\n",
    "    vectors.append(model.docvecs[i])"
   ]
  },
  {
   "cell_type": "code",
   "execution_count": 485,
   "metadata": {},
   "outputs": [],
   "source": [
    "docs_proj = TSNE(random_state=RS).fit_transform(vectors)"
   ]
  },
  {
   "cell_type": "code",
   "execution_count": 486,
   "metadata": {},
   "outputs": [
    {
     "data": {
      "text/plain": [
       "(<Figure size 576x576 with 1 Axes>,\n",
       " <matplotlib.axes._subplots.AxesSubplot at 0x11662d5f8>,\n",
       " <matplotlib.collections.PathCollection at 0x12d64dc50>)"
      ]
     },
     "execution_count": 486,
     "metadata": {},
     "output_type": "execute_result"
    },
    {
     "data": {
      "image/png": "[encoded data removed]",
      "text/plain": [
       "<Figure size 576x576 with 1 Axes>"
      ]
     },
     "metadata": {},
     "output_type": "display_data"
    }
   ],
   "source": [
    "def scatter(x):\n",
    "    # We create a scatter plot.\n",
    "    f = plt.figure(figsize=(8, 8))\n",
    "    ax = plt.subplot(aspect='equal')\n",
    "    sc = ax.scatter(x[:,0], x[:,1], lw=0, s=40)\n",
    "    plt.xlim(-25, 25)\n",
    "    plt.ylim(-25, 25)\n",
    "    ax.axis('off')\n",
    "    ax.axis('tight')\n",
    "    \n",
    "    return f, ax, sc\n",
    "\n",
    "scatter(docs_proj)"
   ]
  }
 ],
 "metadata": {
  "kernelspec": {
   "display_name": "Python 3",
   "language": "python",
   "name": "python3"
  },
  "language_info": {
   "codemirror_mode": {
    "name": "ipython",
    "version": 3
   },
   "file_extension": ".py",
   "mimetype": "text/x-python",
   "name": "python",
   "nbconvert_exporter": "python",
   "pygments_lexer": "ipython3",
   "version": "3.6.5"
  }
 },
 "nbformat": 4,
 "nbformat_minor": 2
}
